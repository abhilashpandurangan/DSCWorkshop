{
  "nbformat": 4,
  "nbformat_minor": 0,
  "metadata": {
    "colab": {
      "name": "Intro-To-TensorFlow_Operations.ipynb",
      "version": "0.3.2",
      "provenance": [],
      "collapsed_sections": [],
      "include_colab_link": true
    },
    "kernelspec": {
      "display_name": "Python 3",
      "language": "python",
      "name": "python3"
    }
  },
  "cells": [
    {
      "cell_type": "markdown",
      "metadata": {
        "id": "view-in-github",
        "colab_type": "text"
      },
      "source": [
        "[View in Colaboratory](https://colab.research.google.com/github/abhilashpandurangan/DSCWorkshop/blob/master/Intro_To_TensorFlow_Operations.ipynb)"
      ]
    },
    {
      "metadata": {
        "id": "SIgIkX1dJkEW",
        "colab_type": "text"
      },
      "cell_type": "markdown",
      "source": [
        "## Introduction to TensorFlow "
      ]
    },
    {
      "metadata": {
        "id": "3sm2SG1ZJkEb",
        "colab_type": "text"
      },
      "cell_type": "markdown",
      "source": [
        "<b>TensorFlow</b> is an open source software library created by <b>Google</b> extensively used in machine learning and deep learning systems. Here we'll learn how computations are represented and how to create your first tensor in a TensorFlow model."
      ]
    },
    {
      "metadata": {
        "id": "rFpcvnCJ4Xkf",
        "colab_type": "text"
      },
      "cell_type": "markdown",
      "source": [
        "# TensorFlow Programming Concepts"
      ]
    },
    {
      "metadata": {
        "id": "9IkBOsrNzahz",
        "colab_type": "text"
      },
      "cell_type": "markdown",
      "source": [
        "**Learning Objectives:**\n",
        "  * Learn the basics of the TensorFlow programming model, focusing on the following concepts:\n",
        "    * tensors\n",
        "    * operations\n",
        "    * graphs\n",
        "    * sessions\n",
        "  * Build a simple TensorFlow program that creates a default graph, and a session that runs the graph"
      ]
    },
    {
      "metadata": {
        "id": "YMG9mHPdzahz",
        "colab_type": "text"
      },
      "cell_type": "markdown",
      "source": [
        "**Note:** Please read through this tutorial carefully. The TensorFlow programming model is probably different from others that you have encountered, and thus may not be as intuitive as you'd expect."
      ]
    },
    {
      "metadata": {
        "id": "NzKsjX-ufyVY",
        "colab_type": "text"
      },
      "cell_type": "markdown",
      "source": [
        "## Overview of Concepts\n",
        "\n",
        "TensorFlow gets its name from **tensors**, which are arrays of arbitrary dimensionality. Using TensorFlow, you can manipulate tensors with a very high number of dimensions. That said, most of the time you will work with one or more of the following low-dimensional tensors:\n",
        "\n",
        "  * A **scalar** is a 0-d array (a 0th-order tensor).  For example, `\"Howdy\"` or `5`\n",
        "  * A **vector** is a 1-d array (a 1st-order tensor).  For example, `[2, 3, 5, 7, 11]` or `[5]`\n",
        "  * A **matrix** is a 2-d array (a 2nd-order tensor).  For example, `[[3.1, 8.2, 5.9][4.3, -2.7, 6.5]]`\n",
        "\n",
        "TensorFlow **operations** create, destroy, and manipulate tensors.  Most of the lines of code in a typical TensorFlow program are operations.\n",
        "\n",
        "A TensorFlow **graph** (also known as a **computational graph** or a **dataflow graph**) is, yes, a graph data structure.  A graph's nodes are operations (in TensorFlow, every operation is associated with a graph).  Many TensorFlow programs consist of a single graph, but TensorFlow programs may optionally create multiple graphs. A graph's nodes are operations; a graph's edges are tensors. Tensors flow through the graph, manipulated at each node by an operation. The output tensor of one operation often becomes the input tensor to a subsequent operation. TensorFlow implements a **lazy execution model,** meaning that nodes are only computed when needed, based on the needs of associated nodes.\n",
        "\n",
        "Tensors can be stored in the graph as **constants** or **variables**. As you might guess, constants hold tensors whose values can't change, while variables hold tensors whose values can change. However, what you may not have guessed is that constants and variables are just more operations in the graph. A constant is an operation that always returns the same tensor value. A variable is an operation that will return whichever tensor has been assigned to it.\n",
        "\n",
        "To define a constant, use the `tf.constant` operator and pass in its value. For example:\n",
        "\n",
        "```\n",
        "  x = tf.constant(5.2)\n",
        "```\n",
        "\n",
        "Similarly, you can create a variable like this:\n",
        "\n",
        "```\n",
        "  y = tf.Variable([5])\n",
        "```\n",
        "\n",
        "Or you can create the variable first and then subsequently assign a value like this (note that you always have to specify a default value):\n",
        "\n",
        "```\n",
        "  y = tf.Variable([0])\n",
        "  y = y.assign([5])\n",
        "```\n",
        "\n",
        "Once you've defined some constants or variables, you can combine them with other operations like `tf.add`. When you evaluate the `tf.add` operation, it will call your `tf.constant` or `tf.Variable` operations to get their values and then return a new tensor with the sum of those values.\n",
        "\n",
        "Graphs must run within a TensorFlow **session**, which holds the state for the graph(s) it runs:\n",
        "\n",
        "```\n",
        "with tf.Session() as sess:\n",
        "  initialization = tf.global_variables_initializer()\n",
        "  print(y.eval())\n",
        "```\n",
        "\n",
        "When working with `tf.Variable`s, you must explicitly initialize them by calling `tf.global_variables_initializer` at the start of your session, as shown above.\n",
        "\n",
        "**Note:** A session can distribute graph execution across multiple machines (assuming the program is run on some distributed computation framework). For more information, see [Distributed TensorFlow](https://www.tensorflow.org/deploy/distributed).\n",
        "\n",
        "### Summary\n",
        "\n",
        "TensorFlow programming is essentially a two-step process:\n",
        "\n",
        "  1. Assemble constants, variables, and operations into a graph.\n",
        "  2. Evaluate those constants, variables and operations within a session.\n"
      ]
    },
    {
      "metadata": {
        "id": "kUhPafZgANpE",
        "colab_type": "code",
        "colab": {}
      },
      "cell_type": "code",
      "source": [
        ""
      ],
      "execution_count": 0,
      "outputs": []
    },
    {
      "metadata": {
        "id": "F0gmyVMwJkEd",
        "colab_type": "text"
      },
      "cell_type": "markdown",
      "source": [
        "#### 1. Import required libraries "
      ]
    },
    {
      "metadata": {
        "id": "WzfnVy4FJkEe",
        "colab_type": "code",
        "colab": {}
      },
      "cell_type": "code",
      "source": [
        "import tensorflow as tf\n",
        "import numpy as np\n"
      ],
      "execution_count": 0,
      "outputs": []
    },
    {
      "metadata": {
        "id": "MCFw48ryJkEo",
        "colab_type": "text"
      },
      "cell_type": "markdown",
      "source": [
        "#### 2. Create Tensor"
      ]
    },
    {
      "metadata": {
        "id": "9mWVIBMpJkEp",
        "colab_type": "text"
      },
      "cell_type": "markdown",
      "source": [
        "Tensorflow handles the flow of Tensors (data). You can think of a Tensor as a multidimensional array."
      ]
    },
    {
      "metadata": {
        "id": "13jFrR3EJkEq",
        "colab_type": "text"
      },
      "cell_type": "markdown",
      "source": [
        "<img src=\"https://github.com/Praneet460/MLCC/blob/master/Day1/add-graph.png?raw=1\"/>"
      ]
    },
    {
      "metadata": {
        "id": "5FyRR2Q_JkEs",
        "colab_type": "text"
      },
      "cell_type": "markdown",
      "source": [
        "In TensorFlow, constants are created using the function constant(used below as <i>tf.constant</i>), which has the signature </br>\n",
        "<b><i>constant(value, dtype=None, shape=None, name=\"Const\", verify_shape=False)</i></b>, where\n",
        "* <b>value</b> is an actual constant value which will be used in further computation\n",
        "* <b>dtype</b> is the data type parameter (e.g. <i>float32/64, int8/16,</i> etc.)\n",
        "* <b>shape</b> is an optional dimensions\n",
        "* <b>name</b> is an optional name for the tensor\n",
        "* <b>verify_shape</b> is a boolean which indicates verification of the shape of values."
      ]
    },
    {
      "metadata": {
        "id": "WIzzzKAjJkEu",
        "colab_type": "code",
        "colab": {
          "base_uri": "https://localhost:8080/",
          "height": 34
        },
        "outputId": "0fb62963-8ce3-46b5-9091-c92d4259820b"
      },
      "cell_type": "code",
      "source": [
        "# Create nodes in a graph\n",
        "a = tf.constant(15, name=\"a\")\n",
        "b = tf.constant(61, name=\"b\")\n",
        "\n",
        "# add them\n",
        "c = tf.add(a, b, name=\"c\")\n",
        "print(c)"
      ],
      "execution_count": 4,
      "outputs": [
        {
          "output_type": "stream",
          "text": [
            "Tensor(\"c_1:0\", shape=(), dtype=int32)\n"
          ],
          "name": "stdout"
        }
      ]
    },
    {
      "metadata": {
        "id": "w6qrUwL_JkE0",
        "colab_type": "text"
      },
      "cell_type": "markdown",
      "source": [
        "<b>Notice</b> that the output is still an abstract Tensor -- we have just created a computation graph consisting of operations. To actually get our result, we have to run a <b>session</b> (A session encapsulates the control  and state of the TensorFlow runtime.) to execute the graph."
      ]
    },
    {
      "metadata": {
        "id": "FWpdx4-yJkE1",
        "colab_type": "code",
        "colab": {
          "base_uri": "https://localhost:8080/",
          "height": 34
        },
        "outputId": "7c1f739d-fec2-42ca-d96d-b94912547112"
      },
      "cell_type": "code",
      "source": [
        "with tf.Session() as session:\n",
        "    print(session.run(c))"
      ],
      "execution_count": 3,
      "outputs": [
        {
          "output_type": "stream",
          "text": [
            "76\n"
          ],
          "name": "stdout"
        }
      ]
    },
    {
      "metadata": {
        "id": "Qizq2Hi7JkE6",
        "colab_type": "text"
      },
      "cell_type": "markdown",
      "source": [
        "<p>Similar, as adding, you can perform other mathematical operations on tensors as well, like substraction, multiplication or division.</p>"
      ]
    },
    {
      "metadata": {
        "id": "nx1ttwFsJkE7",
        "colab_type": "code",
        "colab": {
          "base_uri": "https://localhost:8080/",
          "height": 34
        },
        "outputId": "080c16bf-7317-4c19-9383-6bd558b73354"
      },
      "cell_type": "code",
      "source": [
        "# subtract them\n",
        "z = tf.subtract(a, b, name=\"z\")\n",
        "with tf.Session() as session:\n",
        "    print(session.run(z))"
      ],
      "execution_count": 5,
      "outputs": [
        {
          "output_type": "stream",
          "text": [
            "-46\n"
          ],
          "name": "stdout"
        }
      ]
    },
    {
      "metadata": {
        "id": "7DkXhHczJkE_",
        "colab_type": "code",
        "colab": {
          "base_uri": "https://localhost:8080/",
          "height": 34
        },
        "outputId": "bb01636b-c527-459b-89f5-dedb378258d5"
      },
      "cell_type": "code",
      "source": [
        "# multiply them\n",
        "y = tf.multiply(a, b, name=\"y\")\n",
        "with tf.Session() as session:\n",
        "    print(session.run(y))"
      ],
      "execution_count": 6,
      "outputs": [
        {
          "output_type": "stream",
          "text": [
            "915\n"
          ],
          "name": "stdout"
        }
      ]
    },
    {
      "metadata": {
        "id": "74905GcZJkFG",
        "colab_type": "code",
        "colab": {
          "base_uri": "https://localhost:8080/",
          "height": 34
        },
        "outputId": "81aa2ce2-bda9-4ee1-8d0c-f1c48dcaaa75"
      },
      "cell_type": "code",
      "source": [
        "# divide them\n",
        "x = tf.divide(a, b, name=\"x\")\n",
        "with tf.Session() as session:\n",
        "    print(session.run(x))"
      ],
      "execution_count": 7,
      "outputs": [
        {
          "output_type": "stream",
          "text": [
            "0.2459016393442623\n"
          ],
          "name": "stdout"
        }
      ]
    },
    {
      "metadata": {
        "id": "OaN_E_mzJkFO",
        "colab_type": "text"
      },
      "cell_type": "markdown",
      "source": [
        "#### 3. Building and Executing the Computation Graph"
      ]
    },
    {
      "metadata": {
        "id": "ltx0TgXxJkFP",
        "colab_type": "text"
      },
      "cell_type": "markdown",
      "source": [
        "Consider the following computation graph:"
      ]
    },
    {
      "metadata": {
        "id": "58S2guooJkFP",
        "colab_type": "text"
      },
      "cell_type": "markdown",
      "source": [
        "<img src=\"https://github.com/Praneet460/MLCC/blob/master/Day1/computation-graph.png?raw=1\"/>"
      ]
    },
    {
      "metadata": {
        "id": "SJ17rrVvJkFQ",
        "colab_type": "text"
      },
      "cell_type": "markdown",
      "source": [
        "This graph takes 2 inputs, a, b and computes as output e. Each node in the graph is an operation that takes some input, does some computation, and passes its output to another node."
      ]
    },
    {
      "metadata": {
        "id": "JuQzcx33JkFR",
        "colab_type": "text"
      },
      "cell_type": "markdown",
      "source": [
        "TensorFlow uses <b><i>tf.placeholder</i></b> to handle inputs to the model. It lets you specify that some input will be coming in, of some shape and some type. <i>It allow developers to inject data into the computation graph.</i> The signature of the placeholder is:</br>\n",
        "<b><i>placeholder(dtype, shape=None, name=None)</i></b>"
      ]
    },
    {
      "metadata": {
        "id": "IqDiJEv5JkFS",
        "colab_type": "code",
        "colab": {
          "base_uri": "https://localhost:8080/",
          "height": 34
        },
        "outputId": "b15ef460-2fc8-4f66-87a3-adf4d993801a"
      },
      "cell_type": "code",
      "source": [
        "# define inputs\n",
        "a = tf.placeholder(tf.float32)\n",
        "b = tf.placeholder(tf.float32)\n",
        "\n",
        "# c = a+b\n",
        "c = tf.add(a, b, name=\"c\")\n",
        "# d = b-1\n",
        "d = tf.subtract(b, 1, name=\"d\")\n",
        "# e = c*d\n",
        "e = tf.multiply(c, d, name=\"e\")\n",
        "\n",
        "with tf.Session() as session:\n",
        "    print(session.run(e, feed_dict={a:2.0, b:4.0}))"
      ],
      "execution_count": 7,
      "outputs": [
        {
          "output_type": "stream",
          "text": [
            "18.0\n"
          ],
          "name": "stdout"
        }
      ]
    },
    {
      "metadata": {
        "id": "M2N6e1hTJkFX",
        "colab_type": "text"
      },
      "cell_type": "markdown",
      "source": [
        "We used <b><i>feed_dict</i></b> to pass in the input data of tensor <i>a</i> and tensor <i>b</i>."
      ]
    },
    {
      "metadata": {
        "id": "JWR71LVjK0LV",
        "colab_type": "code",
        "colab": {
          "base_uri": "https://localhost:8080/",
          "height": 34
        },
        "outputId": "8dc3c290-31d4-440f-9364-2f96717cc6ea"
      },
      "cell_type": "code",
      "source": [
        "# Import required library\n",
        "import tensorflow as tf\n",
        "# Define a hello tensor as a tf.constant\n",
        "hello = tf.constant(\"Hello, TensorFlow\", name=\"hello\")\n",
        "\n",
        "with tf.Session():\n",
        "    print(hello.eval()) # Shorthand for session.run(hello)"
      ],
      "execution_count": 8,
      "outputs": [
        {
          "output_type": "stream",
          "text": [
            "b'Hello, TensorFlow'\n"
          ],
          "name": "stdout"
        }
      ]
    },
    {
      "metadata": {
        "id": "5oHz3ZiqK0Lh",
        "colab_type": "text"
      },
      "cell_type": "markdown",
      "source": [
        "#### 1. Matrix Operations"
      ]
    },
    {
      "metadata": {
        "id": "rkD4GgupK0Lj",
        "colab_type": "text"
      },
      "cell_type": "markdown",
      "source": [
        "<p>Matrix operations are very important for machine learning models, like linear regression, as they are often used in them. TensorFlow supports all the most common matrix operations, like <b>multiplication</b>, <b>transposing</b>, <b>inversion</b>, calculating the <b>determinant</b>, solving linear equations, and many more.\n",
        "<p>We will see some of the matrix operations in below code.</p>"
      ]
    },
    {
      "metadata": {
        "id": "_Y3Wbb-HK0Ll",
        "colab_type": "text"
      },
      "cell_type": "markdown",
      "source": [
        "##### 1.1 Sum of Matrices"
      ]
    },
    {
      "metadata": {
        "id": "0Mf-0QNTK0Ll",
        "colab_type": "code",
        "colab": {
          "base_uri": "https://localhost:8080/",
          "height": 121
        },
        "outputId": "e4d8936c-aade-4711-c09a-f1b1f05b4d91"
      },
      "cell_type": "code",
      "source": [
        "# declare two matrices\n",
        "matrix_1 = tf.constant([[5, 6], [7, 8]], name=\"matrix_1\")\n",
        "matrix_2 = tf.constant([[1, 0], [0, 1]], name=\"matrix_2\")\n",
        "\n",
        "# add two matrices\n",
        "matrix_sum = tf.add(matrix_1, matrix_2, name=\"matrix_sum\")\n",
        "\n",
        "print(matrix_sum)\n",
        "print(\"\\n\")\n",
        "\n",
        "with tf.Session():\n",
        "    print(\"Matrix Sum:\\n \",matrix_sum.eval()) # Shorthand of session.run(matrix_sum)"
      ],
      "execution_count": 9,
      "outputs": [
        {
          "output_type": "stream",
          "text": [
            "Tensor(\"matrix_sum:0\", shape=(2, 2), dtype=int32)\n",
            "\n",
            "\n",
            "Matrix Sum:\n",
            "  [[6 6]\n",
            " [7 9]]\n"
          ],
          "name": "stdout"
        }
      ]
    },
    {
      "metadata": {
        "id": "Ad-uXVIGK0Lt",
        "colab_type": "text"
      },
      "cell_type": "markdown",
      "source": [
        "By performing the print operation we see the <i>shape of the matrix as (2, 2) i.e. matrix of two rows and two columns</i>"
      ]
    },
    {
      "metadata": {
        "id": "aJDBGa8PK0Lu",
        "colab_type": "text"
      },
      "cell_type": "markdown",
      "source": [
        "##### 1.2 Matrix Substraction"
      ]
    },
    {
      "metadata": {
        "id": "SbeCJlaVK0Lv",
        "colab_type": "code",
        "colab": {
          "base_uri": "https://localhost:8080/",
          "height": 121
        },
        "outputId": "903b0fac-bbf7-41c0-b45f-8e4c529bcac4"
      },
      "cell_type": "code",
      "source": [
        "# subtract two matrices\n",
        "matrix_subtract = tf.subtract(matrix_1, matrix_2, name = \"matrix_subtract\")\n",
        "print(matrix_subtract)\n",
        "print(\"\\n\")\n",
        "with tf.Session():\n",
        "    print(\"Matrix Substraction:\\n \", matrix_subtract.eval())"
      ],
      "execution_count": 10,
      "outputs": [
        {
          "output_type": "stream",
          "text": [
            "Tensor(\"matrix_subtract:0\", shape=(2, 2), dtype=int32)\n",
            "\n",
            "\n",
            "Matrix Substraction:\n",
            "  [[4 6]\n",
            " [7 7]]\n"
          ],
          "name": "stdout"
        }
      ]
    },
    {
      "metadata": {
        "id": "bblVNfmuK0L0",
        "colab_type": "text"
      },
      "cell_type": "markdown",
      "source": [
        "##### 1.3 Matrix Multiplication"
      ]
    },
    {
      "metadata": {
        "id": "j3Gb2lq4K0L0",
        "colab_type": "code",
        "colab": {
          "base_uri": "https://localhost:8080/",
          "height": 121
        },
        "outputId": "c92615ad-a0e4-4d09-8270-579e5b13f7dd"
      },
      "cell_type": "code",
      "source": [
        "# multiply two matrices\n",
        "matrix_multiply = tf.multiply(matrix_1, matrix_2, name=\"matrix_multiply\")\n",
        "print(matrix_multiply)\n",
        "print(\"\\n\")\n",
        "with tf.Session():\n",
        "    print(\"Matrix Multiplication:\\n\", matrix_multiply.eval())"
      ],
      "execution_count": 11,
      "outputs": [
        {
          "output_type": "stream",
          "text": [
            "Tensor(\"matrix_multiply:0\", shape=(2, 2), dtype=int32)\n",
            "\n",
            "\n",
            "Matrix Multiplication:\n",
            " [[5 0]\n",
            " [0 8]]\n"
          ],
          "name": "stdout"
        }
      ]
    },
    {
      "metadata": {
        "id": "i09dlhIuK0L5",
        "colab_type": "text"
      },
      "cell_type": "markdown",
      "source": [
        "##### 1.4 Other Operations"
      ]
    },
    {
      "metadata": {
        "id": "G2282L7OK0L7",
        "colab_type": "text"
      },
      "cell_type": "markdown",
      "source": [
        "<p> We can also build a tensor in TensorFlow, by building an n-dimensional array, using the <i>NumPy library</i>.</p>"
      ]
    },
    {
      "metadata": {
        "id": "9ZnrXFJuK0L8",
        "colab_type": "text"
      },
      "cell_type": "markdown",
      "source": [
        "```np.array(np.random.rand(4, 4), dtype=\"float32```\n",
        "<p> Creates an array of specified shape (here we choose (4, 4) i.e. matrix of four rows and four columns), and fills it with random values. The dtype of these random values can be choosen by the developer (here we used float variables).</p>"
      ]
    },
    {
      "metadata": {
        "id": "INxy5X_oK0L-",
        "colab_type": "code",
        "colab": {
          "base_uri": "https://localhost:8080/",
          "height": 346
        },
        "outputId": "6705c775-3b80-4f40-870c-5108574c5492"
      },
      "cell_type": "code",
      "source": [
        "# Import the required library\n",
        "import numpy as np\n",
        "\n",
        "# Creating a 2-d tensor, or matrix\n",
        "tensor_2d = np.array(np.random.rand(4, 4), dtype=\"float32\")\n",
        "tensor_2d_1 = np.array(np.random.rand(4, 4), dtype=\"float32\")\n",
        "tensor_2d_2 = np.array(np.random.rand(4, 4), dtype=\"float32\")\n",
        "\n",
        "\n",
        "# look out the matrices\n",
        "print(\"tensor_2d =\\n\", tensor_2d)\n",
        "print(\"\\n\")\n",
        "print(\"tensor_2d_1 =\\n\", tensor_2d_1)\n",
        "print(\"\\n\")\n",
        "print(\"tensor_2d_2 =\\n\", tensor_2d_2)"
      ],
      "execution_count": 12,
      "outputs": [
        {
          "output_type": "stream",
          "text": [
            "tensor_2d =\n",
            " [[0.82423455 0.3161063  0.38326898 0.45608622]\n",
            " [0.8860388  0.9649723  0.16914228 0.04887802]\n",
            " [0.9135227  0.99406135 0.8649825  0.44900233]\n",
            " [0.41159463 0.20047739 0.7209606  0.34490275]]\n",
            "\n",
            "\n",
            "tensor_2d_1 =\n",
            " [[0.45341352 0.4752891  0.62945443 0.7146795 ]\n",
            " [0.73119736 0.09203945 0.16442895 0.07015086]\n",
            " [0.5454743  0.8968402  0.4227305  0.31750292]\n",
            " [0.3521292  0.7280671  0.1586175  0.17661692]]\n",
            "\n",
            "\n",
            "tensor_2d_2 =\n",
            " [[0.29132897 0.96868914 0.4778899  0.80427873]\n",
            " [0.7088874  0.6643472  0.24102885 0.31319866]\n",
            " [0.8153068  0.6551186  0.57539415 0.34262046]\n",
            " [0.31039834 0.774117   0.98507845 0.9340596 ]]\n"
          ],
          "name": "stdout"
        }
      ]
    },
    {
      "metadata": {
        "id": "THKhxjRnK0ME",
        "colab_type": "text"
      },
      "cell_type": "markdown",
      "source": [
        "<p>A NumPy array generated above can be easily converted into a TensorFlow tensor with the auxiliary function <b><i>convert_to_tensor</i></b>, which helps developers convert Python objects to tensor objects. The signature of the convert_to_tensorflow is:</p>\n",
        "<b>tf.convert_to_tensor(value, dtype=None, name=None, preferred_dtype=None)</b>"
      ]
    },
    {
      "metadata": {
        "id": "bFWfHTFGK0MF",
        "colab_type": "code",
        "colab": {
          "base_uri": "https://localhost:8080/",
          "height": 121
        },
        "outputId": "9df213de-593b-4a82-a812-a3115d0e8e3e"
      },
      "cell_type": "code",
      "source": [
        "# converting the array into tensor\n",
        "mat_1 = tf.convert_to_tensor(tensor_2d)\n",
        "mat_2 = tf.convert_to_tensor(tensor_2d_1)\n",
        "mat_3 = tf.convert_to_tensor(tensor_2d_2)\n",
        "\n",
        "print(\"mat_1:\\n\", mat_1)\n",
        "print(\"mat_2:\\n\", mat_2)\n",
        "print(\"mat_3:\\n\", mat_3)"
      ],
      "execution_count": 13,
      "outputs": [
        {
          "output_type": "stream",
          "text": [
            "mat_1:\n",
            " Tensor(\"Const:0\", shape=(4, 4), dtype=float32)\n",
            "mat_2:\n",
            " Tensor(\"Const_1:0\", shape=(4, 4), dtype=float32)\n",
            "mat_3:\n",
            " Tensor(\"Const_2:0\", shape=(4, 4), dtype=float32)\n"
          ],
          "name": "stdout"
        }
      ]
    },
    {
      "metadata": {
        "id": "Ksl1iozrK0MK",
        "colab_type": "code",
        "colab": {
          "base_uri": "https://localhost:8080/",
          "height": 87
        },
        "outputId": "c7972373-0c28-44ec-c5dd-7a5f79aa59e1"
      },
      "cell_type": "code",
      "source": [
        "# transpose of the matrix\n",
        "mat_transpose = tf.transpose(mat_1)\n",
        "with tf.Session():\n",
        "    print(mat_transpose.eval())"
      ],
      "execution_count": 14,
      "outputs": [
        {
          "output_type": "stream",
          "text": [
            "[[0.82423455 0.8860388  0.9135227  0.41159463]\n",
            " [0.3161063  0.9649723  0.99406135 0.20047739]\n",
            " [0.38326898 0.16914228 0.8649825  0.7209606 ]\n",
            " [0.45608622 0.04887802 0.44900233 0.34490275]]\n"
          ],
          "name": "stdout"
        }
      ]
    },
    {
      "metadata": {
        "id": "EeVey50pK0MP",
        "colab_type": "code",
        "colab": {
          "base_uri": "https://localhost:8080/",
          "height": 87
        },
        "outputId": "59966b0d-6471-42f5-e539-d0e3683d816a"
      },
      "cell_type": "code",
      "source": [
        "# matrix multiplication\n",
        "mat_multiply = tf.matmul(mat_1, mat_2)\n",
        "with tf.Session():\n",
        "    print(mat_multiply.eval())"
      ],
      "execution_count": 15,
      "outputs": [
        {
          "output_type": "stream",
          "text": [
            "[[0.9745198  1.0966363  0.80515784 0.8134802 ]\n",
            " [1.2168013  0.69722015 0.79564494 0.7632632 ]\n",
            " [1.7709911  1.6283352  1.1753474  1.0765461 ]\n",
            " [0.8479269  1.1117771  0.65152395 0.59804463]]\n"
          ],
          "name": "stdout"
        }
      ]
    },
    {
      "metadata": {
        "id": "B31M7PREK0MT",
        "colab_type": "code",
        "colab": {
          "base_uri": "https://localhost:8080/",
          "height": 35
        },
        "outputId": "4ca61e6f-dc3f-4be0-e727-1a8a4898a001"
      },
      "cell_type": "code",
      "source": [
        "# Matrix determinant\n",
        "mat_determinant = tf.matrix_determinant(mat_3)\n",
        "with tf.Session():\n",
        "    print(mat_determinant.eval())"
      ],
      "execution_count": 16,
      "outputs": [
        {
          "output_type": "stream",
          "text": [
            "-0.030954028\n"
          ],
          "name": "stdout"
        }
      ]
    },
    {
      "metadata": {
        "id": "gh-NESqLK0Ma",
        "colab_type": "code",
        "colab": {
          "base_uri": "https://localhost:8080/",
          "height": 87
        },
        "outputId": "a2a073a9-e6de-44cc-9b32-0e5fd8906772"
      },
      "cell_type": "code",
      "source": [
        "# Matrix inverse\n",
        "mat_inverse = tf.matrix_inverse(mat_3)\n",
        "with tf.Session():\n",
        "    print(mat_inverse.eval())"
      ],
      "execution_count": 17,
      "outputs": [
        {
          "output_type": "stream",
          "text": [
            "[[-3.6145473  6.0992284 -3.709319   2.4278128]\n",
            " [ 5.796398  -7.993853   6.6936975 -4.76592  ]\n",
            " [ 1.7938776 -6.125657   5.2201695 -1.4054425]\n",
            " [-5.4945645 11.058437  -9.82016    5.695848 ]]\n"
          ],
          "name": "stdout"
        }
      ]
    },
    {
      "metadata": {
        "id": "DV1Wr2SlK0Mh",
        "colab_type": "code",
        "colab": {
          "base_uri": "https://localhost:8080/",
          "height": 87
        },
        "outputId": "0cafe4e6-d084-4bc5-9a89-98a7b0326914"
      },
      "cell_type": "code",
      "source": [
        "# Matrix solve\n",
        "mat_solve = tf.matrix_solve(mat_3, [[1], [1], [1], [1]])\n",
        "with tf.Session():\n",
        "    print(mat_solve.eval())"
      ],
      "execution_count": 18,
      "outputs": [
        {
          "output_type": "stream",
          "text": [
            "[[ 1.203175  ]\n",
            " [-0.26967746]\n",
            " [-0.51705223]\n",
            " [ 1.4395605 ]]\n"
          ],
          "name": "stdout"
        }
      ]
    },
    {
      "metadata": {
        "id": "pdWelfDoK0Mm",
        "colab_type": "text"
      },
      "cell_type": "markdown",
      "source": [
        "##### 1.5 Sequential Operations\n",
        "<p>Result of multiplication of mat_1 by itself, is added with the result of multiplication of mat_1 by matrix(4x4) of all ones's</p> "
      ]
    },
    {
      "metadata": {
        "id": "-pTlsQLfK0Mo",
        "colab_type": "code",
        "colab": {
          "base_uri": "https://localhost:8080/",
          "height": 87
        },
        "outputId": "c7a3878c-9d5f-4aca-8b5f-8b9e63c4b063"
      },
      "cell_type": "code",
      "source": [
        "result = tf.matmul(mat_1, mat_1) + tf.matmul(mat_1, tf.ones([4, 4], dtype=\"float32\"))\n",
        "with tf.Session():\n",
        "    print(result.eval())"
      ],
      "execution_count": 19,
      "outputs": [
        {
          "output_type": "stream",
          "text": [
            "[[3.4769886 3.0177035 3.0094078 2.7004628]\n",
            " [3.8289711 3.458222  2.7533844 2.6131108]\n",
            " [5.830291  5.419441  4.8117394 4.2300434]\n",
            " [2.9953907 2.7873225 2.7418756 2.3181279]]\n"
          ],
          "name": "stdout"
        }
      ]
    },
    {
      "metadata": {
        "id": "t4JAY9qDStAj",
        "colab_type": "text"
      },
      "cell_type": "markdown",
      "source": [
        "##Generic Example for Linear Regression Using TensorFlow"
      ]
    },
    {
      "metadata": {
        "id": "oNK-hT0ESu1w",
        "colab_type": "code",
        "colab": {
          "base_uri": "https://localhost:8080/",
          "height": 1128
        },
        "outputId": "8021bfe0-7416-4b57-e3be-d103f07f51eb"
      },
      "cell_type": "code",
      "source": [
        "from __future__ import print_function\n",
        "\n",
        "import tensorflow as tf\n",
        "import numpy\n",
        "import matplotlib.pyplot as plt\n",
        "rng = numpy.random\n",
        "\n",
        "# Parameters\n",
        "learning_rate = 0.01\n",
        "training_epochs = 1000\n",
        "display_step = 50\n",
        "\n",
        "# Training Data\n",
        "train_X = numpy.asarray([3.3,4.4,5.5,6.71,6.93,4.168,9.779,6.182,7.59,2.167,\n",
        "                         7.042,10.791,5.313,7.997,5.654,9.27,3.1])\n",
        "train_Y = numpy.asarray([1.7,2.76,2.09,3.19,1.694,1.573,3.366,2.596,2.53,1.221,\n",
        "                         2.827,3.465,1.65,2.904,2.42,2.94,1.3])\n",
        "n_samples = train_X.shape[0]\n",
        "\n",
        "# tf Graph Input\n",
        "X = tf.placeholder(\"float\")\n",
        "Y = tf.placeholder(\"float\")\n",
        "\n",
        "# Set model weights\n",
        "W = tf.Variable(rng.randn(), name=\"weight\")\n",
        "b = tf.Variable(rng.randn(), name=\"bias\")\n",
        "\n",
        "# Construct a linear model\n",
        "pred = tf.add(tf.multiply(X, W), b)\n",
        "\n",
        "# Mean squared error\n",
        "cost = tf.reduce_sum(tf.pow(pred-Y, 2))/(2*n_samples)\n",
        "# Gradient descent\n",
        "#  Note, minimize() knows to modify W and b because Variable objects are trainable=True by default\n",
        "optimizer = tf.train.GradientDescentOptimizer(learning_rate).minimize(cost)\n",
        "\n",
        "# Initialize the variables (i.e. assign their default value)\n",
        "init = tf.global_variables_initializer()\n",
        "\n",
        "# Start training\n",
        "with tf.Session() as sess:\n",
        "\n",
        "    # Run the initializer\n",
        "    sess.run(init)\n",
        "\n",
        "    # Fit all training data\n",
        "    for epoch in range(training_epochs):\n",
        "        for (x, y) in zip(train_X, train_Y):\n",
        "            sess.run(optimizer, feed_dict={X: x, Y: y})\n",
        "\n",
        "        # Display logs per epoch step\n",
        "        if (epoch+1) % display_step == 0:\n",
        "            c = sess.run(cost, feed_dict={X: train_X, Y:train_Y})\n",
        "            print(\"Epoch:\", '%04d' % (epoch+1), \"cost=\", \"{:.9f}\".format(c), \\\n",
        "                \"W=\", sess.run(W), \"b=\", sess.run(b))\n",
        "\n",
        "    print(\"Optimization Finished!\")\n",
        "    training_cost = sess.run(cost, feed_dict={X: train_X, Y: train_Y})\n",
        "    print(\"Training cost=\", training_cost, \"W=\", sess.run(W), \"b=\", sess.run(b), '\\n')\n",
        "\n",
        "    # Graphic display\n",
        "    plt.plot(train_X, train_Y, 'ro', label='Original data')\n",
        "    plt.plot(train_X, sess.run(W) * train_X + sess.run(b), label='Fitted line')\n",
        "    plt.legend()\n",
        "    plt.show()\n",
        "\n",
        "    # Testing example\n",
        "    test_X = numpy.asarray([6.83, 4.668, 8.9, 7.91, 5.7, 8.7, 3.1, 2.1])\n",
        "    test_Y = numpy.asarray([1.84, 2.273, 3.2, 2.831, 2.92, 3.24, 1.35, 1.03])\n",
        "\n",
        "    print(\"Testing... (Mean square loss Comparison)\")\n",
        "    testing_cost = sess.run(\n",
        "        tf.reduce_sum(tf.pow(pred - Y, 2)) / (2 * test_X.shape[0]),\n",
        "        feed_dict={X: test_X, Y: test_Y})  # same function as cost above\n",
        "    print(\"Testing cost=\", testing_cost)\n",
        "    print(\"Absolute mean square loss difference:\", abs(\n",
        "        training_cost - testing_cost))\n",
        "\n",
        "    plt.plot(test_X, test_Y, 'bo', label='Testing data')\n",
        "    plt.plot(train_X, sess.run(W) * train_X + sess.run(b), label='Fitted line')\n",
        "    plt.legend()\n",
        "    plt.show()"
      ],
      "execution_count": 20,
      "outputs": [
        {
          "output_type": "stream",
          "text": [
            "Epoch: 0050 cost= 0.198776424 W= 0.44471574 b= -0.6022282\n",
            "Epoch: 0100 cost= 0.184704676 W= 0.43311098 b= -0.5187445\n",
            "Epoch: 0150 cost= 0.172257870 W= 0.42219627 b= -0.4402255\n",
            "Epoch: 0200 cost= 0.161248505 W= 0.4119308 b= -0.36637628\n",
            "Epoch: 0250 cost= 0.151510507 W= 0.40227586 b= -0.29691878\n",
            "Epoch: 0300 cost= 0.142897278 W= 0.39319512 b= -0.2315927\n",
            "Epoch: 0350 cost= 0.135278866 W= 0.38465452 b= -0.17015189\n",
            "Epoch: 0400 cost= 0.128540456 W= 0.37662175 b= -0.112365164\n",
            "Epoch: 0450 cost= 0.122580387 W= 0.3690668 b= -0.058015235\n",
            "Epoch: 0500 cost= 0.117308803 W= 0.3619612 b= -0.0068977275\n",
            "Epoch: 0550 cost= 0.112646230 W= 0.3552781 b= 0.041179523\n",
            "Epoch: 0600 cost= 0.108522333 W= 0.3489926 b= 0.0863974\n",
            "Epoch: 0650 cost= 0.104874946 W= 0.3430808 b= 0.12892583\n",
            "Epoch: 0700 cost= 0.101648949 W= 0.3375207 b= 0.16892505\n",
            "Epoch: 0750 cost= 0.098795764 W= 0.3322913 b= 0.20654516\n",
            "Epoch: 0800 cost= 0.096272282 W= 0.32737282 b= 0.24192825\n",
            "Epoch: 0850 cost= 0.094040446 W= 0.32274693 b= 0.27520666\n",
            "Epoch: 0900 cost= 0.092066593 W= 0.31839612 b= 0.30650613\n",
            "Epoch: 0950 cost= 0.090320930 W= 0.31430417 b= 0.3359433\n",
            "Epoch: 1000 cost= 0.088777058 W= 0.31045547 b= 0.36363038\n",
            "Optimization Finished!\n",
            "Training cost= 0.08877706 W= 0.31045547 b= 0.36363038 \n",
            "\n"
          ],
          "name": "stdout"
        },
        {
          "output_type": "display_data",
          "data": {
            "image/png": "[encoded data removed]",
            "text/plain": [
              "<matplotlib.figure.Figure at 0x7f14d9bed9e8>"
            ]
          },
          "metadata": {
            "tags": []
          }
        },
        {
          "output_type": "stream",
          "text": [
            "Testing... (Mean square loss Comparison)\n",
            "Testing cost= 0.080163315\n",
            "Absolute mean square loss difference: 0.008613743\n"
          ],
          "name": "stdout"
        },
        {
          "output_type": "display_data",
          "data": {
            "image/png": "[encoded data removed]",
            "text/plain": [
              "<matplotlib.figure.Figure at 0x7f14d9a6b828>"
            ]
          },
          "metadata": {
            "tags": []
          }
        }
      ]
    }
  ]
}